{
 "cells": [
  {
   "cell_type": "code",
   "execution_count": 5,
   "metadata": {},
   "outputs": [],
   "source": [
    "import pandas as pd\n",
    "import yfinance as yf\n",
    "import altair as alt\n",
    "import streamlit as st\n",
    "from selenium import webdriver\n",
    "from selenium.webdriver.chrome import service as fs\n",
    "from webdriver_manager.chrome import ChromeDriverManager\n",
    "\n",
    "def suku():\n",
    "    \n",
    "\n",
    "    ua = \"Mozilla/5.0 (Windows NT 10.0; Win64; x64) AppleWebKit/537.36 (KHTML, like Gecko) Chrome/109.0.0.0 Safari/537.36\"\n",
    "\n",
    "    options = webdriver.ChromeOptions()\n",
    "    # options.add_argument('--incognito')\n",
    "    # options.add_argument('--user-agent=' + ua)\n",
    "\n",
    "    chrome_service = fs.Service(executable_path=ChromeDriverManager().install())\n",
    "    # chrome_service = fs.Service(executable_path='chromedriver-107.exe')\n",
    "    browser = webdriver.Chrome(options=options,service=chrome_service)\n",
    "    "
   ]
  },
  {
   "cell_type": "code",
   "execution_count": 6,
   "metadata": {},
   "outputs": [
    {
     "name": "stderr",
     "output_type": "stream",
     "text": [
      "2023-04-17 09:14:50.975 INFO    WDM: ====== WebDriver manager ======\n",
      "2023-04-17 09:14:52.013 INFO    WDM: Get LATEST chromedriver version for google-chrome 112.0.5615\n",
      "2023-04-17 09:14:53.036 INFO    WDM: Driver [C:\\Users\\user\\.wdm\\drivers\\chromedriver\\win32\\112.0.5615\\chromedriver.exe] found in cache\n"
     ]
    }
   ],
   "source": [
    "suku()"
   ]
  },
  {
   "cell_type": "code",
   "execution_count": 7,
   "metadata": {},
   "outputs": [
    {
     "name": "stderr",
     "output_type": "stream",
     "text": [
      "2023-04-17 09:15:50.345 INFO    WDM: ====== WebDriver manager ======\n",
      "2023-04-17 09:15:51.282 INFO    WDM: Get LATEST chromedriver version for google-chrome 112.0.5615\n",
      "2023-04-17 09:15:52.321 INFO    WDM: Driver [C:\\Users\\user\\.wdm\\drivers\\chromedriver\\win32\\112.0.5615\\chromedriver.exe] found in cache\n"
     ]
    }
   ],
   "source": [
    "ua = \"Mozilla/5.0 (Windows NT 10.0; Win64; x64) AppleWebKit/537.36 (KHTML, like Gecko) Chrome/109.0.0.0 Safari/537.36\"\n",
    "\n",
    "options = webdriver.ChromeOptions()\n",
    "# options.add_argument('--incognito')\n",
    "# options.add_argument('--user-agent=' + ua)\n",
    "\n",
    "chrome_service = fs.Service(executable_path=ChromeDriverManager().install())\n",
    "# chrome_service = fs.Service(executable_path='chromedriver-107.exe')\n",
    "browser = webdriver.Chrome(options=options,service=chrome_service)"
   ]
  }
 ],
 "metadata": {
  "kernelspec": {
   "display_name": "Python 3",
   "language": "python",
   "name": "python3"
  },
  "language_info": {
   "codemirror_mode": {
    "name": "ipython",
    "version": 3
   },
   "file_extension": ".py",
   "mimetype": "text/x-python",
   "name": "python",
   "nbconvert_exporter": "python",
   "pygments_lexer": "ipython3",
   "version": "3.10.5"
  },
  "orig_nbformat": 4
 },
 "nbformat": 4,
 "nbformat_minor": 2
}
